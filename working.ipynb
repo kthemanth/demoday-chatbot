{
 "cells": [
  {
   "cell_type": "code",
   "execution_count": 2,
   "id": "7896c4bd",
   "metadata": {},
   "outputs": [],
   "source": [
    "from openai import OpenAI\n",
    "from dotenv import load_dotenv\n",
    "\n",
    "import os"
   ]
  },
  {
   "cell_type": "code",
   "execution_count": 3,
   "id": "5e22231a",
   "metadata": {},
   "outputs": [],
   "source": [
    "load_dotenv()\n",
    "OPENAI_API_KEY = os.getenv(\"OPENAI_API_KEY\")"
   ]
  },
  {
   "cell_type": "code",
   "execution_count": 4,
   "id": "92b6389b",
   "metadata": {},
   "outputs": [
    {
     "name": "stdout",
     "output_type": "stream",
     "text": [
      "ResponseCreatedEvent(response=Response(id='resp_67fc091f04348192a30d925a56fc9c0f0fd1aa70fbe98cd8', created_at=1744570655.0, error=None, incomplete_details=None, instructions=None, metadata={}, model='gpt-4o-2024-08-06', object='response', output=[], parallel_tool_calls=True, temperature=1.0, tool_choice='auto', tools=[], top_p=1.0, max_output_tokens=None, previous_response_id=None, reasoning=Reasoning(effort=None, generate_summary=None), status='in_progress', text=ResponseTextConfig(format=ResponseFormatText(type='text')), truncation='disabled', usage=None, user=None, store=True), type='response.created')\n",
      "ResponseInProgressEvent(response=Response(id='resp_67fc091f04348192a30d925a56fc9c0f0fd1aa70fbe98cd8', created_at=1744570655.0, error=None, incomplete_details=None, instructions=None, metadata={}, model='gpt-4o-2024-08-06', object='response', output=[], parallel_tool_calls=True, temperature=1.0, tool_choice='auto', tools=[], top_p=1.0, max_output_tokens=None, previous_response_id=None, reasoning=Reasoning(effort=None, generate_summary=None), status='in_progress', text=ResponseTextConfig(format=ResponseFormatText(type='text')), truncation='disabled', usage=None, user=None, store=True), type='response.in_progress')\n",
      "ResponseOutputItemAddedEvent(item=ResponseOutputMessage(id='msg_67fc091fc0a081929128bc81b5c712090fd1aa70fbe98cd8', content=[], role='assistant', status='in_progress', type='message'), output_index=0, type='response.output_item.added')\n",
      "ResponseContentPartAddedEvent(content_index=0, item_id='msg_67fc091fc0a081929128bc81b5c712090fd1aa70fbe98cd8', output_index=0, part=ResponseOutputText(annotations=[], text='', type='output_text'), type='response.content_part.added')\n",
      "ResponseTextDeltaEvent(content_index=0, delta=\"That's\", item_id='msg_67fc091fc0a081929128bc81b5c712090fd1aa70fbe98cd8', output_index=0, type='response.output_text.delta')\n",
      "ResponseTextDeltaEvent(content_index=0, delta=' a', item_id='msg_67fc091fc0a081929128bc81b5c712090fd1aa70fbe98cd8', output_index=0, type='response.output_text.delta')\n",
      "ResponseTextDeltaEvent(content_index=0, delta=' fun', item_id='msg_67fc091fc0a081929128bc81b5c712090fd1aa70fbe98cd8', output_index=0, type='response.output_text.delta')\n",
      "ResponseTextDeltaEvent(content_index=0, delta=' tongue', item_id='msg_67fc091fc0a081929128bc81b5c712090fd1aa70fbe98cd8', output_index=0, type='response.output_text.delta')\n",
      "ResponseTextDeltaEvent(content_index=0, delta=' tw', item_id='msg_67fc091fc0a081929128bc81b5c712090fd1aa70fbe98cd8', output_index=0, type='response.output_text.delta')\n",
      "ResponseTextDeltaEvent(content_index=0, delta='ister', item_id='msg_67fc091fc0a081929128bc81b5c712090fd1aa70fbe98cd8', output_index=0, type='response.output_text.delta')\n",
      "ResponseTextDeltaEvent(content_index=0, delta='!', item_id='msg_67fc091fc0a081929128bc81b5c712090fd1aa70fbe98cd8', output_index=0, type='response.output_text.delta')\n",
      "ResponseTextDeltaEvent(content_index=0, delta=' It', item_id='msg_67fc091fc0a081929128bc81b5c712090fd1aa70fbe98cd8', output_index=0, type='response.output_text.delta')\n",
      "ResponseTextDeltaEvent(content_index=0, delta=' might', item_id='msg_67fc091fc0a081929128bc81b5c712090fd1aa70fbe98cd8', output_index=0, type='response.output_text.delta')\n",
      "ResponseTextDeltaEvent(content_index=0, delta=' be', item_id='msg_67fc091fc0a081929128bc81b5c712090fd1aa70fbe98cd8', output_index=0, type='response.output_text.delta')\n",
      "ResponseTextDeltaEvent(content_index=0, delta=' tricky', item_id='msg_67fc091fc0a081929128bc81b5c712090fd1aa70fbe98cd8', output_index=0, type='response.output_text.delta')\n",
      "ResponseTextDeltaEvent(content_index=0, delta=' to', item_id='msg_67fc091fc0a081929128bc81b5c712090fd1aa70fbe98cd8', output_index=0, type='response.output_text.delta')\n",
      "ResponseTextDeltaEvent(content_index=0, delta=' say', item_id='msg_67fc091fc0a081929128bc81b5c712090fd1aa70fbe98cd8', output_index=0, type='response.output_text.delta')\n",
      "ResponseTextDeltaEvent(content_index=0, delta=' \"', item_id='msg_67fc091fc0a081929128bc81b5c712090fd1aa70fbe98cd8', output_index=0, type='response.output_text.delta')\n",
      "ResponseTextDeltaEvent(content_index=0, delta='double', item_id='msg_67fc091fc0a081929128bc81b5c712090fd1aa70fbe98cd8', output_index=0, type='response.output_text.delta')\n",
      "ResponseTextDeltaEvent(content_index=0, delta=' bubble', item_id='msg_67fc091fc0a081929128bc81b5c712090fd1aa70fbe98cd8', output_index=0, type='response.output_text.delta')\n",
      "ResponseTextDeltaEvent(content_index=0, delta=' bath', item_id='msg_67fc091fc0a081929128bc81b5c712090fd1aa70fbe98cd8', output_index=0, type='response.output_text.delta')\n",
      "ResponseTextDeltaEvent(content_index=0, delta='\"', item_id='msg_67fc091fc0a081929128bc81b5c712090fd1aa70fbe98cd8', output_index=0, type='response.output_text.delta')\n",
      "ResponseTextDeltaEvent(content_index=0, delta=' ten', item_id='msg_67fc091fc0a081929128bc81b5c712090fd1aa70fbe98cd8', output_index=0, type='response.output_text.delta')\n",
      "ResponseTextDeltaEvent(content_index=0, delta=' times', item_id='msg_67fc091fc0a081929128bc81b5c712090fd1aa70fbe98cd8', output_index=0, type='response.output_text.delta')\n",
      "ResponseTextDeltaEvent(content_index=0, delta=' fast', item_id='msg_67fc091fc0a081929128bc81b5c712090fd1aa70fbe98cd8', output_index=0, type='response.output_text.delta')\n",
      "ResponseTextDeltaEvent(content_index=0, delta=' without', item_id='msg_67fc091fc0a081929128bc81b5c712090fd1aa70fbe98cd8', output_index=0, type='response.output_text.delta')\n",
      "ResponseTextDeltaEvent(content_index=0, delta=' stumbling', item_id='msg_67fc091fc0a081929128bc81b5c712090fd1aa70fbe98cd8', output_index=0, type='response.output_text.delta')\n",
      "ResponseTextDeltaEvent(content_index=0, delta='.', item_id='msg_67fc091fc0a081929128bc81b5c712090fd1aa70fbe98cd8', output_index=0, type='response.output_text.delta')\n",
      "ResponseTextDeltaEvent(content_index=0, delta=' Give', item_id='msg_67fc091fc0a081929128bc81b5c712090fd1aa70fbe98cd8', output_index=0, type='response.output_text.delta')\n",
      "ResponseTextDeltaEvent(content_index=0, delta=' it', item_id='msg_67fc091fc0a081929128bc81b5c712090fd1aa70fbe98cd8', output_index=0, type='response.output_text.delta')\n",
      "ResponseTextDeltaEvent(content_index=0, delta=' a', item_id='msg_67fc091fc0a081929128bc81b5c712090fd1aa70fbe98cd8', output_index=0, type='response.output_text.delta')\n",
      "ResponseTextDeltaEvent(content_index=0, delta=' try', item_id='msg_67fc091fc0a081929128bc81b5c712090fd1aa70fbe98cd8', output_index=0, type='response.output_text.delta')\n",
      "ResponseTextDeltaEvent(content_index=0, delta=' and', item_id='msg_67fc091fc0a081929128bc81b5c712090fd1aa70fbe98cd8', output_index=0, type='response.output_text.delta')\n",
      "ResponseTextDeltaEvent(content_index=0, delta=' see', item_id='msg_67fc091fc0a081929128bc81b5c712090fd1aa70fbe98cd8', output_index=0, type='response.output_text.delta')\n",
      "ResponseTextDeltaEvent(content_index=0, delta=' how', item_id='msg_67fc091fc0a081929128bc81b5c712090fd1aa70fbe98cd8', output_index=0, type='response.output_text.delta')\n",
      "ResponseTextDeltaEvent(content_index=0, delta=' you', item_id='msg_67fc091fc0a081929128bc81b5c712090fd1aa70fbe98cd8', output_index=0, type='response.output_text.delta')\n",
      "ResponseTextDeltaEvent(content_index=0, delta=' do', item_id='msg_67fc091fc0a081929128bc81b5c712090fd1aa70fbe98cd8', output_index=0, type='response.output_text.delta')\n",
      "ResponseTextDeltaEvent(content_index=0, delta='!', item_id='msg_67fc091fc0a081929128bc81b5c712090fd1aa70fbe98cd8', output_index=0, type='response.output_text.delta')\n",
      "ResponseTextDoneEvent(content_index=0, item_id='msg_67fc091fc0a081929128bc81b5c712090fd1aa70fbe98cd8', output_index=0, text='That\\'s a fun tongue twister! It might be tricky to say \"double bubble bath\" ten times fast without stumbling. Give it a try and see how you do!', type='response.output_text.done')\n",
      "ResponseContentPartDoneEvent(content_index=0, item_id='msg_67fc091fc0a081929128bc81b5c712090fd1aa70fbe98cd8', output_index=0, part=ResponseOutputText(annotations=[], text='That\\'s a fun tongue twister! It might be tricky to say \"double bubble bath\" ten times fast without stumbling. Give it a try and see how you do!', type='output_text'), type='response.content_part.done')\n",
      "ResponseOutputItemDoneEvent(item=ResponseOutputMessage(id='msg_67fc091fc0a081929128bc81b5c712090fd1aa70fbe98cd8', content=[ResponseOutputText(annotations=[], text='That\\'s a fun tongue twister! It might be tricky to say \"double bubble bath\" ten times fast without stumbling. Give it a try and see how you do!', type='output_text')], role='assistant', status='completed', type='message'), output_index=0, type='response.output_item.done')\n",
      "ResponseCompletedEvent(response=Response(id='resp_67fc091f04348192a30d925a56fc9c0f0fd1aa70fbe98cd8', created_at=1744570655.0, error=None, incomplete_details=None, instructions=None, metadata={}, model='gpt-4o-2024-08-06', object='response', output=[ResponseOutputMessage(id='msg_67fc091fc0a081929128bc81b5c712090fd1aa70fbe98cd8', content=[ResponseOutputText(annotations=[], text='That\\'s a fun tongue twister! It might be tricky to say \"double bubble bath\" ten times fast without stumbling. Give it a try and see how you do!', type='output_text')], role='assistant', status='completed', type='message')], parallel_tool_calls=True, temperature=1.0, tool_choice='auto', tools=[], top_p=1.0, max_output_tokens=None, previous_response_id=None, reasoning=Reasoning(effort=None, generate_summary=None), status='completed', text=ResponseTextConfig(format=ResponseFormatText(type='text')), truncation='disabled', usage=ResponseUsage(input_tokens=17, input_tokens_details=InputTokensDetails(cached_tokens=0), output_tokens=35, output_tokens_details=OutputTokensDetails(reasoning_tokens=0), total_tokens=52), user=None, store=True), type='response.completed')\n"
     ]
    }
   ],
   "source": [
    "client = OpenAI()\n",
    "\n",
    "stream = client.responses.create(\n",
    "    model=\"gpt-4o\",\n",
    "    input=[\n",
    "        {\n",
    "            \"role\": \"user\",\n",
    "            \"content\": \"Say 'double bubble bath' ten times fast.\",\n",
    "        },\n",
    "    ],\n",
    "    stream=True,\n",
    ")\n",
    "\n",
    "for event in stream:\n",
    "    print(event)"
   ]
  },
  {
   "cell_type": "code",
   "execution_count": null,
   "id": "41f8e21d",
   "metadata": {},
   "outputs": [],
   "source": [
    "import pandas as pd\n",
    "\n",
    "from"
   ]
  },
  {
   "cell_type": "code",
   "execution_count": 8,
   "id": "854eaba5",
   "metadata": {},
   "outputs": [
    {
     "name": "stdout",
     "output_type": "stream",
     "text": [
      "<class 'pandas.core.frame.DataFrame'>\n",
      "RangeIndex: 949511 entries, 0 to 949510\n",
      "Data columns (total 12 columns):\n",
      " #   Column               Non-Null Count   Dtype         \n",
      "---  ------               --------------   -----         \n",
      " 0   month                949511 non-null  datetime64[ns]\n",
      " 1   town                 949511 non-null  object        \n",
      " 2   flat_type            949511 non-null  object        \n",
      " 3   block                949511 non-null  object        \n",
      " 4   street_name          949511 non-null  object        \n",
      " 5   storey_range         949511 non-null  object        \n",
      " 6   floor_area_sqm       949511 non-null  float64       \n",
      " 7   flat_model           949511 non-null  object        \n",
      " 8   lease_commence_date  949511 non-null  int64         \n",
      " 9   resale_price         949511 non-null  float64       \n",
      " 10  remaining_lease      240461 non-null  object        \n",
      " 11  year                 949511 non-null  int64         \n",
      "dtypes: datetime64[ns](1), float64(2), int64(2), object(7)\n",
      "memory usage: 86.9+ MB\n"
     ]
    }
   ],
   "source": [
    "from hdb_charts import df_initial_preproc\n",
    "\n",
    "def load_data():\n",
    "    return  pd.read_csv(\"data_concat.csv\", header=0, parse_dates=[\"month\"],low_memory=False)\n",
    "\n",
    "df = load_data()\n",
    "df.info()\n"
   ]
  },
  {
   "cell_type": "code",
   "execution_count": 10,
   "id": "b5fcc7fd",
   "metadata": {},
   "outputs": [],
   "source": [
    "df_initial_preproc(df)\n",
    "df.to_csv(\"data_concat.csv\")"
   ]
  },
  {
   "cell_type": "code",
   "execution_count": null,
   "id": "2c12736d",
   "metadata": {},
   "outputs": [],
   "source": []
  }
 ],
 "metadata": {
  "kernelspec": {
   "display_name": "lewagon_env",
   "language": "python",
   "name": "python3"
  },
  "language_info": {
   "codemirror_mode": {
    "name": "ipython",
    "version": 3
   },
   "file_extension": ".py",
   "mimetype": "text/x-python",
   "name": "python",
   "nbconvert_exporter": "python",
   "pygments_lexer": "ipython3",
   "version": "3.10.6"
  }
 },
 "nbformat": 4,
 "nbformat_minor": 5
}
